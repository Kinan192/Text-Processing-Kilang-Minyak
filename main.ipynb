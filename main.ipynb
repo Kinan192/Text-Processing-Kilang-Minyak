{
 "cells": [
  {
   "cell_type": "markdown",
   "id": "39be1fd9",
   "metadata": {},
   "source": [
    "Inisialisasi Library"
   ]
  },
  {
   "cell_type": "code",
   "execution_count": 1,
   "id": "14e5fcee",
   "metadata": {},
   "outputs": [
    {
     "name": "stderr",
     "output_type": "stream",
     "text": [
      "[nltk_data] Downloading package punkt to\n",
      "[nltk_data]     C:\\Users\\Kinan\\AppData\\Roaming\\nltk_data...\n",
      "[nltk_data]   Package punkt is already up-to-date!\n"
     ]
    }
   ],
   "source": [
    "import pandas as pd\n",
    "import re\n",
    "import nltk\n",
    "from nltk.tokenize import word_tokenize\n",
    "nltk.download('punkt')\n",
    "from Sastrawi.Stemmer.StemmerFactory import StemmerFactory\n",
    "from Sastrawi.StopWordRemover.StopWordRemoverFactory import StopWordRemoverFactory\n",
    "import ast\n",
    "import matplotlib.pyplot as plt\n",
    "import seaborn as sns"
   ]
  },
  {
   "cell_type": "markdown",
   "id": "65e03d50",
   "metadata": {},
   "source": [
    "Baca Dataset"
   ]
  },
  {
   "cell_type": "code",
   "execution_count": 2,
   "id": "4f23a946",
   "metadata": {},
   "outputs": [],
   "source": [
    "# Load Dataset Kilang Minyak \n",
    "df = pd.read_csv('tweets-data/kilang_minyak_data.csv')\n",
    "# Load Dataset chatwords (informal → formal)\n",
    "df_stopwords = pd.read_csv('dataset/data_text_informal_to_formal.csv', sep=';')"
   ]
  },
  {
   "cell_type": "markdown",
   "id": "930abe1a",
   "metadata": {},
   "source": [
    "Casefolding dan Text Cleaning"
   ]
  },
  {
   "cell_type": "code",
   "execution_count": 3,
   "id": "850b7d9f",
   "metadata": {},
   "outputs": [
    {
     "data": {
      "text/html": [
       "<div>\n",
       "<style scoped>\n",
       "    .dataframe tbody tr th:only-of-type {\n",
       "        vertical-align: middle;\n",
       "    }\n",
       "\n",
       "    .dataframe tbody tr th {\n",
       "        vertical-align: top;\n",
       "    }\n",
       "\n",
       "    .dataframe thead th {\n",
       "        text-align: right;\n",
       "    }\n",
       "</style>\n",
       "<table border=\"1\" class=\"dataframe\">\n",
       "  <thead>\n",
       "    <tr style=\"text-align: right;\">\n",
       "      <th></th>\n",
       "      <th>full_text</th>\n",
       "      <th>cleaned_text</th>\n",
       "    </tr>\n",
       "  </thead>\n",
       "  <tbody>\n",
       "    <tr>\n",
       "      <th>0</th>\n",
       "      <td>@luckylucky0971 @PaltiHutabarat Indonesia Emas...</td>\n",
       "      <td>indonesia emas pak presiden bangun industri ot...</td>\n",
       "    </tr>\n",
       "    <tr>\n",
       "      <th>1</th>\n",
       "      <td>@MMicen @BosPurwa Dengarkan baik2 kata2 yang d...</td>\n",
       "      <td>dengarkan baik kata yang dia ucapkan udah jela...</td>\n",
       "    </tr>\n",
       "    <tr>\n",
       "      <th>2</th>\n",
       "      <td>@dhaintly Kalau bikin kilang otomatis gk ada p...</td>\n",
       "      <td>kalau bikin kilang otomatis gk ada proyek impo...</td>\n",
       "    </tr>\n",
       "    <tr>\n",
       "      <th>3</th>\n",
       "      <td>Impor BBM Bebani APBN Purbaya Sebut Pertamina ...</td>\n",
       "      <td>impor bbm bebani apbn purbaya sebut pertamina ...</td>\n",
       "    </tr>\n",
       "    <tr>\n",
       "      <th>4</th>\n",
       "      <td>@Dennysiregar7 @pertamina @NasbiHasan Jadi kap...</td>\n",
       "      <td>jadi kapan pertamina akan mulai membangun kila...</td>\n",
       "    </tr>\n",
       "    <tr>\n",
       "      <th>5</th>\n",
       "      <td>@DS_yantie @desmodromici1 @NasbiHasan harus me...</td>\n",
       "      <td>harus membangun kilang minyak secepatnya</td>\n",
       "    </tr>\n",
       "    <tr>\n",
       "      <th>6</th>\n",
       "      <td>@regar_op0sisi Sudah dari zaman orba ga ada ki...</td>\n",
       "      <td>sudah dari zaman orba ga ada kilang pada waktu...</td>\n",
       "    </tr>\n",
       "    <tr>\n",
       "      <th>7</th>\n",
       "      <td>@dhaintly Issu ini dr dulu udah jadi bahan deb...</td>\n",
       "      <td>issu ini dr dulu udah jadi bahan debat capres ...</td>\n",
       "    </tr>\n",
       "    <tr>\n",
       "      <th>8</th>\n",
       "      <td>@CakKhum Da mah yaaaaa harusnya mah ga usah bu...</td>\n",
       "      <td>da mah yaaaaa harusnya mah ga usah buru bangun...</td>\n",
       "    </tr>\n",
       "    <tr>\n",
       "      <th>9</th>\n",
       "      <td>Seharusnya dari dulu udah bikin kilang minyak ...</td>\n",
       "      <td>seharusnya dari dulu udah bikin kilang minyak ...</td>\n",
       "    </tr>\n",
       "  </tbody>\n",
       "</table>\n",
       "</div>"
      ],
      "text/plain": [
       "                                           full_text  \\\n",
       "0  @luckylucky0971 @PaltiHutabarat Indonesia Emas...   \n",
       "1  @MMicen @BosPurwa Dengarkan baik2 kata2 yang d...   \n",
       "2  @dhaintly Kalau bikin kilang otomatis gk ada p...   \n",
       "3  Impor BBM Bebani APBN Purbaya Sebut Pertamina ...   \n",
       "4  @Dennysiregar7 @pertamina @NasbiHasan Jadi kap...   \n",
       "5  @DS_yantie @desmodromici1 @NasbiHasan harus me...   \n",
       "6  @regar_op0sisi Sudah dari zaman orba ga ada ki...   \n",
       "7  @dhaintly Issu ini dr dulu udah jadi bahan deb...   \n",
       "8  @CakKhum Da mah yaaaaa harusnya mah ga usah bu...   \n",
       "9  Seharusnya dari dulu udah bikin kilang minyak ...   \n",
       "\n",
       "                                        cleaned_text  \n",
       "0  indonesia emas pak presiden bangun industri ot...  \n",
       "1  dengarkan baik kata yang dia ucapkan udah jela...  \n",
       "2  kalau bikin kilang otomatis gk ada proyek impo...  \n",
       "3  impor bbm bebani apbn purbaya sebut pertamina ...  \n",
       "4  jadi kapan pertamina akan mulai membangun kila...  \n",
       "5           harus membangun kilang minyak secepatnya  \n",
       "6  sudah dari zaman orba ga ada kilang pada waktu...  \n",
       "7  issu ini dr dulu udah jadi bahan debat capres ...  \n",
       "8  da mah yaaaaa harusnya mah ga usah buru bangun...  \n",
       "9  seharusnya dari dulu udah bikin kilang minyak ...  "
      ]
     },
     "execution_count": 3,
     "metadata": {},
     "output_type": "execute_result"
    }
   ],
   "source": [
    "def clean_text(text):\n",
    "    if not isinstance(text, str):\n",
    "        text = str(text)\n",
    "    text = text.lower()                             # ubah ke huruf kecil\n",
    "    text = re.sub(r'http\\S+|www\\.\\S+', '', text)    # hapus URL\n",
    "    text = re.sub(r'@\\w+', '', text)                # hapus mention (@username)\n",
    "    text = re.sub(r'#\\w+', '', text)                # hapus hashtag (#hashtag)\n",
    "    text = re.sub(r'[^a-z\\s]', '', text)            # hapus karakter non-huruf\n",
    "    text = re.sub(r'\\s+', ' ', text).strip()        # hapus spasi berlebih\n",
    "    return text\n",
    "\n",
    "df['cleaned_text'] = df['full_text'].apply(clean_text)\n",
    "df[['full_text', 'cleaned_text']].head(10)\n"
   ]
  },
  {
   "cell_type": "markdown",
   "id": "44764586",
   "metadata": {},
   "source": [
    "Handling Chatwords dan Stopword"
   ]
  },
  {
   "cell_type": "code",
   "execution_count": 4,
   "id": "fe652145",
   "metadata": {},
   "outputs": [
    {
     "data": {
      "text/html": [
       "<div>\n",
       "<style scoped>\n",
       "    .dataframe tbody tr th:only-of-type {\n",
       "        vertical-align: middle;\n",
       "    }\n",
       "\n",
       "    .dataframe tbody tr th {\n",
       "        vertical-align: top;\n",
       "    }\n",
       "\n",
       "    .dataframe thead th {\n",
       "        text-align: right;\n",
       "    }\n",
       "</style>\n",
       "<table border=\"1\" class=\"dataframe\">\n",
       "  <thead>\n",
       "    <tr style=\"text-align: right;\">\n",
       "      <th></th>\n",
       "      <th>full_text</th>\n",
       "      <th>cleaned_text</th>\n",
       "    </tr>\n",
       "  </thead>\n",
       "  <tbody>\n",
       "    <tr>\n",
       "      <th>0</th>\n",
       "      <td>@luckylucky0971 @PaltiHutabarat Indonesia Emas...</td>\n",
       "      <td>indonesia emas pak presiden bangun industri ot...</td>\n",
       "    </tr>\n",
       "    <tr>\n",
       "      <th>1</th>\n",
       "      <td>@MMicen @BosPurwa Dengarkan baik2 kata2 yang d...</td>\n",
       "      <td>dengarkan baik kata ucapkan udah jelas fokus d...</td>\n",
       "    </tr>\n",
       "    <tr>\n",
       "      <th>2</th>\n",
       "      <td>@dhaintly Kalau bikin kilang otomatis gk ada p...</td>\n",
       "      <td>kalau bikin kilang otomatis ada proyek import ...</td>\n",
       "    </tr>\n",
       "    <tr>\n",
       "      <th>3</th>\n",
       "      <td>Impor BBM Bebani APBN Purbaya Sebut Pertamina ...</td>\n",
       "      <td>impor bbm bebani apbn purbaya sebut pertamina ...</td>\n",
       "    </tr>\n",
       "    <tr>\n",
       "      <th>4</th>\n",
       "      <td>@Dennysiregar7 @pertamina @NasbiHasan Jadi kap...</td>\n",
       "      <td>jadi kapan pertamina mulai membangun kilang co...</td>\n",
       "    </tr>\n",
       "  </tbody>\n",
       "</table>\n",
       "</div>"
      ],
      "text/plain": [
       "                                           full_text  \\\n",
       "0  @luckylucky0971 @PaltiHutabarat Indonesia Emas...   \n",
       "1  @MMicen @BosPurwa Dengarkan baik2 kata2 yang d...   \n",
       "2  @dhaintly Kalau bikin kilang otomatis gk ada p...   \n",
       "3  Impor BBM Bebani APBN Purbaya Sebut Pertamina ...   \n",
       "4  @Dennysiregar7 @pertamina @NasbiHasan Jadi kap...   \n",
       "\n",
       "                                        cleaned_text  \n",
       "0  indonesia emas pak presiden bangun industri ot...  \n",
       "1  dengarkan baik kata ucapkan udah jelas fokus d...  \n",
       "2  kalau bikin kilang otomatis ada proyek import ...  \n",
       "3  impor bbm bebani apbn purbaya sebut pertamina ...  \n",
       "4  jadi kapan pertamina mulai membangun kilang co...  "
      ]
     },
     "execution_count": 4,
     "metadata": {},
     "output_type": "execute_result"
    }
   ],
   "source": [
    "\n",
    "formal_text = df_stopwords.set_index('transformed')['original-for'].to_dict()\n",
    "\n",
    "# Fungsi untuk mengganti kata chatwords\n",
    "def replace_chatwords(text):\n",
    "    words = text.split()\n",
    "    replaced_words = [formal_text.get(word, word) for word in words]\n",
    "    return ' '.join(replaced_words)\n",
    "\n",
    "df['cleaned_text'] = df['cleaned_text'].apply(replace_chatwords)\n",
    "\n",
    "# Stopword removal menggunakan Sastrawi\n",
    "\n",
    "factory = StopWordRemoverFactory()\n",
    "stopword = factory.create_stop_word_remover()\n",
    "df['cleaned_text'] = df['cleaned_text'].apply(stopword.remove)\n",
    "\n",
    "# Cek hasil\n",
    "df[['full_text', 'cleaned_text']].head()\n"
   ]
  },
  {
   "cell_type": "markdown",
   "id": "ea7e2db1",
   "metadata": {},
   "source": [
    "Tokenizer"
   ]
  },
  {
   "cell_type": "code",
   "execution_count": 5,
   "id": "edbf993b",
   "metadata": {},
   "outputs": [
    {
     "data": {
      "text/html": [
       "<div>\n",
       "<style scoped>\n",
       "    .dataframe tbody tr th:only-of-type {\n",
       "        vertical-align: middle;\n",
       "    }\n",
       "\n",
       "    .dataframe tbody tr th {\n",
       "        vertical-align: top;\n",
       "    }\n",
       "\n",
       "    .dataframe thead th {\n",
       "        text-align: right;\n",
       "    }\n",
       "</style>\n",
       "<table border=\"1\" class=\"dataframe\">\n",
       "  <thead>\n",
       "    <tr style=\"text-align: right;\">\n",
       "      <th></th>\n",
       "      <th>cleaned_text</th>\n",
       "      <th>tokenized_text</th>\n",
       "    </tr>\n",
       "  </thead>\n",
       "  <tbody>\n",
       "    <tr>\n",
       "      <th>0</th>\n",
       "      <td>indonesia emas pak presiden bangun industri ot...</td>\n",
       "      <td>[indonesia, emas, pak, presiden, bangun, indus...</td>\n",
       "    </tr>\n",
       "    <tr>\n",
       "      <th>1</th>\n",
       "      <td>dengarkan baik kata ucapkan udah jelas fokus d...</td>\n",
       "      <td>[dengarkan, baik, kata, ucapkan, udah, jelas, ...</td>\n",
       "    </tr>\n",
       "    <tr>\n",
       "      <th>2</th>\n",
       "      <td>kalau bikin kilang otomatis ada proyek import ...</td>\n",
       "      <td>[kalau, bikin, kilang, otomatis, ada, proyek, ...</td>\n",
       "    </tr>\n",
       "    <tr>\n",
       "      <th>3</th>\n",
       "      <td>impor bbm bebani apbn purbaya sebut pertamina ...</td>\n",
       "      <td>[impor, bbm, bebani, apbn, purbaya, sebut, per...</td>\n",
       "    </tr>\n",
       "    <tr>\n",
       "      <th>4</th>\n",
       "      <td>jadi kapan pertamina mulai membangun kilang co...</td>\n",
       "      <td>[jadi, kapan, pertamina, mulai, membangun, kil...</td>\n",
       "    </tr>\n",
       "  </tbody>\n",
       "</table>\n",
       "</div>"
      ],
      "text/plain": [
       "                                        cleaned_text  \\\n",
       "0  indonesia emas pak presiden bangun industri ot...   \n",
       "1  dengarkan baik kata ucapkan udah jelas fokus d...   \n",
       "2  kalau bikin kilang otomatis ada proyek import ...   \n",
       "3  impor bbm bebani apbn purbaya sebut pertamina ...   \n",
       "4  jadi kapan pertamina mulai membangun kilang co...   \n",
       "\n",
       "                                      tokenized_text  \n",
       "0  [indonesia, emas, pak, presiden, bangun, indus...  \n",
       "1  [dengarkan, baik, kata, ucapkan, udah, jelas, ...  \n",
       "2  [kalau, bikin, kilang, otomatis, ada, proyek, ...  \n",
       "3  [impor, bbm, bebani, apbn, purbaya, sebut, per...  \n",
       "4  [jadi, kapan, pertamina, mulai, membangun, kil...  "
      ]
     },
     "execution_count": 5,
     "metadata": {},
     "output_type": "execute_result"
    }
   ],
   "source": [
    "df['tokenized_text'] = df['cleaned_text'].apply(word_tokenize)\n",
    "df[['cleaned_text', 'tokenized_text']].head()"
   ]
  },
  {
   "cell_type": "markdown",
   "id": "8e8ba834",
   "metadata": {},
   "source": [
    "Stemming"
   ]
  },
  {
   "cell_type": "code",
   "execution_count": 6,
   "id": "e7eff54f",
   "metadata": {},
   "outputs": [
    {
     "data": {
      "text/html": [
       "<div>\n",
       "<style scoped>\n",
       "    .dataframe tbody tr th:only-of-type {\n",
       "        vertical-align: middle;\n",
       "    }\n",
       "\n",
       "    .dataframe tbody tr th {\n",
       "        vertical-align: top;\n",
       "    }\n",
       "\n",
       "    .dataframe thead th {\n",
       "        text-align: right;\n",
       "    }\n",
       "</style>\n",
       "<table border=\"1\" class=\"dataframe\">\n",
       "  <thead>\n",
       "    <tr style=\"text-align: right;\">\n",
       "      <th></th>\n",
       "      <th>tokenized_text</th>\n",
       "      <th>stemmed_text</th>\n",
       "    </tr>\n",
       "  </thead>\n",
       "  <tbody>\n",
       "    <tr>\n",
       "      <th>0</th>\n",
       "      <td>[indonesia, emas, pak, presiden, bangun, indus...</td>\n",
       "      <td>[indonesia, emas, pak, presiden, bangun, indus...</td>\n",
       "    </tr>\n",
       "    <tr>\n",
       "      <th>1</th>\n",
       "      <td>[dengarkan, baik, kata, ucapkan, udah, jelas, ...</td>\n",
       "      <td>[dengar, baik, kata, ucap, udah, jelas, fokus,...</td>\n",
       "    </tr>\n",
       "    <tr>\n",
       "      <th>2</th>\n",
       "      <td>[kalau, bikin, kilang, otomatis, ada, proyek, ...</td>\n",
       "      <td>[kalau, bikin, kilang, otomatis, ada, proyek, ...</td>\n",
       "    </tr>\n",
       "    <tr>\n",
       "      <th>3</th>\n",
       "      <td>[impor, bbm, bebani, apbn, purbaya, sebut, per...</td>\n",
       "      <td>[impor, bbm, beban, apbn, purbaya, sebut, pert...</td>\n",
       "    </tr>\n",
       "    <tr>\n",
       "      <th>4</th>\n",
       "      <td>[jadi, kapan, pertamina, mulai, membangun, kil...</td>\n",
       "      <td>[jadi, kapan, pertamina, mulai, bangun, kilang...</td>\n",
       "    </tr>\n",
       "    <tr>\n",
       "      <th>5</th>\n",
       "      <td>[membangun, kilang, minyak, secepatnya]</td>\n",
       "      <td>[bangun, kilang, minyak, cepat]</td>\n",
       "    </tr>\n",
       "    <tr>\n",
       "      <th>6</th>\n",
       "      <td>[dari, zaman, orba, ada, kilang, waktu, indone...</td>\n",
       "      <td>[dari, zaman, orba, ada, kilang, waktu, indone...</td>\n",
       "    </tr>\n",
       "    <tr>\n",
       "      <th>7</th>\n",
       "      <td>[issu, dulu, udah, jadi, bahan, debat, capres,...</td>\n",
       "      <td>[issu, dulu, udah, jadi, bahan, debat, capres,...</td>\n",
       "    </tr>\n",
       "    <tr>\n",
       "      <th>8</th>\n",
       "      <td>[da, mah, iya, harusnya, mah, usah, buru, bang...</td>\n",
       "      <td>[da, mah, iya, harus, mah, usah, buru, bangun,...</td>\n",
       "    </tr>\n",
       "    <tr>\n",
       "      <th>9</th>\n",
       "      <td>[dari, dulu, udah, bikin, kilang, minyak, bany...</td>\n",
       "      <td>[dari, dulu, udah, bikin, kilang, minyak, bany...</td>\n",
       "    </tr>\n",
       "  </tbody>\n",
       "</table>\n",
       "</div>"
      ],
      "text/plain": [
       "                                      tokenized_text  \\\n",
       "0  [indonesia, emas, pak, presiden, bangun, indus...   \n",
       "1  [dengarkan, baik, kata, ucapkan, udah, jelas, ...   \n",
       "2  [kalau, bikin, kilang, otomatis, ada, proyek, ...   \n",
       "3  [impor, bbm, bebani, apbn, purbaya, sebut, per...   \n",
       "4  [jadi, kapan, pertamina, mulai, membangun, kil...   \n",
       "5            [membangun, kilang, minyak, secepatnya]   \n",
       "6  [dari, zaman, orba, ada, kilang, waktu, indone...   \n",
       "7  [issu, dulu, udah, jadi, bahan, debat, capres,...   \n",
       "8  [da, mah, iya, harusnya, mah, usah, buru, bang...   \n",
       "9  [dari, dulu, udah, bikin, kilang, minyak, bany...   \n",
       "\n",
       "                                        stemmed_text  \n",
       "0  [indonesia, emas, pak, presiden, bangun, indus...  \n",
       "1  [dengar, baik, kata, ucap, udah, jelas, fokus,...  \n",
       "2  [kalau, bikin, kilang, otomatis, ada, proyek, ...  \n",
       "3  [impor, bbm, beban, apbn, purbaya, sebut, pert...  \n",
       "4  [jadi, kapan, pertamina, mulai, bangun, kilang...  \n",
       "5                    [bangun, kilang, minyak, cepat]  \n",
       "6  [dari, zaman, orba, ada, kilang, waktu, indone...  \n",
       "7  [issu, dulu, udah, jadi, bahan, debat, capres,...  \n",
       "8  [da, mah, iya, harus, mah, usah, buru, bangun,...  \n",
       "9  [dari, dulu, udah, bikin, kilang, minyak, bany...  "
      ]
     },
     "execution_count": 6,
     "metadata": {},
     "output_type": "execute_result"
    }
   ],
   "source": [
    "stem_factory = StemmerFactory()\n",
    "stemmer = stem_factory.create_stemmer()\n",
    "\n",
    "def stem_text(word_list):\n",
    "    # Kalau input berupa string, ubah jadi list dulu\n",
    "    if isinstance(word_list, str):\n",
    "        try:\n",
    "            word_list = ast.literal_eval(word_list)  # parse string list\n",
    "        except:\n",
    "            word_list = word_list.split()  # fallback split biasa\n",
    "    if not isinstance(word_list, list):\n",
    "        return []\n",
    "    return [stemmer.stem(word) for word in word_list]\n",
    "\n",
    "df['stemmed_text'] = df['tokenized_text'].apply(stem_text)\n",
    "df[['tokenized_text', 'stemmed_text']].head(10)\n"
   ]
  },
  {
   "cell_type": "markdown",
   "id": "90ec1a50",
   "metadata": {},
   "source": [
    "Lexicon Labeling Dataset by https://github.com/fajri91/InSet"
   ]
  },
  {
   "cell_type": "code",
   "execution_count": 7,
   "id": "a1f7b92f",
   "metadata": {},
   "outputs": [
    {
     "name": "stdout",
     "output_type": "stream",
     "text": [
      "sentiment\n",
      "negative    1323\n",
      "positive    1067\n",
      "neutral      124\n",
      "Name: count, dtype: int64\n"
     ]
    }
   ],
   "source": [
    "# Baca TSV lexicon\n",
    "positive = pd.read_csv(\"dataset/positive.tsv\", sep=\"\\t\", header=None, encoding=\"utf-8\", skiprows=1)\n",
    "negative = pd.read_csv(\"dataset/negative.tsv\", sep=\"\\t\", header=None, encoding=\"utf-8\", skiprows=1)\n",
    "\n",
    "# Buat dictionary dengan value float\n",
    "pos_dict = {k: float(v) for k, v in zip(positive[0], positive[1])}\n",
    "neg_dict = {k: float(v) for k, v in zip(negative[0], negative[1])}\n",
    "\n",
    "# Fungsi labeling\n",
    "def label_with_inset(text):\n",
    "    score = 0.0\n",
    "    for w in text.split():\n",
    "        if w in pos_dict:\n",
    "            score += pos_dict[w]\n",
    "        elif w in neg_dict:\n",
    "            score += neg_dict[w]\n",
    "    if score > 0:\n",
    "        return \"positive\"\n",
    "    elif score < 0:\n",
    "        return \"negative\"\n",
    "    else:\n",
    "        return \"neutral\"\n",
    "\n",
    "# Gabungkan stemmed list menjadi string\n",
    "df['stemmed_text_str'] = df['stemmed_text'].apply(lambda x: ' '.join(x))\n",
    "df[\"sentiment\"] = df[\"stemmed_text_str\"].apply(label_with_inset)\n",
    "\n",
    "# Cek distribusi sentimen\n",
    "print(df[\"sentiment\"].value_counts())\n"
   ]
  },
  {
   "cell_type": "markdown",
   "id": "ee424500",
   "metadata": {},
   "source": [
    "Visualisasi Distribusi Sentimen"
   ]
  },
  {
   "cell_type": "code",
   "execution_count": 8,
   "id": "5e328267",
   "metadata": {},
   "outputs": [
    {
     "data": {
      "image/png": "[encoded data removed]",
      "text/plain": [
       "<Figure size 600x400 with 1 Axes>"
      ]
     },
     "metadata": {},
     "output_type": "display_data"
    }
   ],
   "source": [
    "\n",
    "# Hitung jumlah tiap label\n",
    "sentiment_counts = df['sentiment'].value_counts()\n",
    "\n",
    "# Warna manual sesuai label\n",
    "colors = ['red' if x=='negative' else 'green' if x=='positive' else 'gray' for x in sentiment_counts.index]\n",
    "\n",
    "plt.figure(figsize=(6,4))\n",
    "sns.barplot(x=sentiment_counts.index, y=sentiment_counts.values, color='blue')  \n",
    "\n",
    "# Ganti warna manual & tambahkan jumlah di atas bar\n",
    "for i, bar in enumerate(plt.gca().patches):\n",
    "    bar.set_facecolor(colors[i])\n",
    "    plt.text(i, bar.get_height() + 5, str(int(bar.get_height())), ha='center', fontweight='bold')\n",
    "\n",
    "plt.title('Distribusi Sentimen')\n",
    "plt.xlabel('Sentimen')\n",
    "plt.ylabel('Jumlah Dokumen')\n",
    "plt.show()\n"
   ]
  }
 ],
 "metadata": {
  "kernelspec": {
   "display_name": "mlenv (3.11.9)",
   "language": "python",
   "name": "python3"
  },
  "language_info": {
   "codemirror_mode": {
    "name": "ipython",
    "version": 3
   },
   "file_extension": ".py",
   "mimetype": "text/x-python",
   "name": "python",
   "nbconvert_exporter": "python",
   "pygments_lexer": "ipython3",
   "version": "3.11.9"
  }
 },
 "nbformat": 4,
 "nbformat_minor": 5
}
