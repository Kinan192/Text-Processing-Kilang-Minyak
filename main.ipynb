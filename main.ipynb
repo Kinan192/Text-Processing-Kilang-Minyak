{
 "cells": [
  {
   "cell_type": "markdown",
   "id": "74bb2401",
   "metadata": {},
   "source": [
    "Inisialisasi Library"
   ]
  },
  {
   "cell_type": "code",
   "execution_count": 2,
   "id": "e305553c",
   "metadata": {},
   "outputs": [],
   "source": [
    "import pandas as pd\n",
    "import re"
   ]
  },
  {
   "cell_type": "markdown",
   "id": "8e27e3a1",
   "metadata": {},
   "source": [
    "Baca dataset"
   ]
  },
  {
   "cell_type": "code",
   "execution_count": 25,
   "id": "af341b21",
   "metadata": {},
   "outputs": [],
   "source": [
    "df = pd.read_csv('tweets-data/kilang_minyak_data.csv')"
   ]
  },
  {
   "cell_type": "markdown",
   "id": "039a9e21",
   "metadata": {},
   "source": [
    "Casefolding data text dan Text Removal"
   ]
  },
  {
   "cell_type": "code",
   "execution_count": 46,
   "id": "b662bfa4",
   "metadata": {},
   "outputs": [
    {
     "data": {
      "text/html": [
       "<div>\n",
       "<style scoped>\n",
       "    .dataframe tbody tr th:only-of-type {\n",
       "        vertical-align: middle;\n",
       "    }\n",
       "\n",
       "    .dataframe tbody tr th {\n",
       "        vertical-align: top;\n",
       "    }\n",
       "\n",
       "    .dataframe thead th {\n",
       "        text-align: right;\n",
       "    }\n",
       "</style>\n",
       "<table border=\"1\" class=\"dataframe\">\n",
       "  <thead>\n",
       "    <tr style=\"text-align: right;\">\n",
       "      <th></th>\n",
       "      <th>full_text</th>\n",
       "      <th>cleaned_text</th>\n",
       "    </tr>\n",
       "  </thead>\n",
       "  <tbody>\n",
       "    <tr>\n",
       "      <th>0</th>\n",
       "      <td>@luckylucky0971 @PaltiHutabarat Indonesia Emas pak Presiden @prabowo Bangun industri otomotif yg kuat bangun industri telekomunikasi bangun industri pesawat tempur bangun industri alat berat bangun kilang kilang minyak yg hebat Tidak usah geleng geleng kepala bingung liat koruptor @BANGSAygSUJUD</td>\n",
       "      <td>indonesia emas pak presiden bangun industri otomotif yg kuat bangun industri telekomunikasi bangun industri pesawat tempur bangun industri alat berat bangun kilang kilang minyak yg hebat tidak usah geleng geleng kepala bingung liat koruptor</td>\n",
       "    </tr>\n",
       "    <tr>\n",
       "      <th>1</th>\n",
       "      <td>@MMicen @BosPurwa Dengarkan baik2 kata2 yang dia ucapkan.. Udah jelas fokus dia pertamina yang males2an buat kilang minyak baru.. Cuma fokus 1 kalimat aja tapi konteks yang dibahas kaga tau..</td>\n",
       "      <td>dengarkan baik kata yang dia ucapkan udah jelas fokus dia pertamina yang malesan buat kilang minyak baru cuma fokus kalimat aja tapi konteks yang dibahas kaga tau</td>\n",
       "    </tr>\n",
       "    <tr>\n",
       "      <th>2</th>\n",
       "      <td>@dhaintly Kalau bikin kilang otomatis gk ada proyek import minyak buat Elite PERTAMINA dong Boss @prabowo @PurbayaYudhi</td>\n",
       "      <td>kalau bikin kilang otomatis gk ada proyek import minyak buat elite pertamina dong boss</td>\n",
       "    </tr>\n",
       "    <tr>\n",
       "      <th>3</th>\n",
       "      <td>Impor BBM Bebani APBN Purbaya Sebut Pertamina Malas Bangun Kilang Minyak Baru https://t.co/aDP7NdJrLB</td>\n",
       "      <td>impor bbm bebani apbn purbaya sebut pertamina malas bangun kilang minyak baru</td>\n",
       "    </tr>\n",
       "    <tr>\n",
       "      <th>4</th>\n",
       "      <td>@Dennysiregar7 @pertamina @NasbiHasan Jadi kapan Pertamina akan mulai membangun Kilang.? Coba DPR melakukan rapat dg Menteti BUMN Menteri ESDM dan Pertamina mengapa kilang kilang minyak tidak dibangun apa kendalanya tagih komitmentnya. Kalau import terus pasti banyak mafia yg diuntungkan.</td>\n",
       "      <td>jadi kapan pertamina akan mulai membangun kilang coba dpr melakukan rapat dg menteti bumn menteri esdm dan pertamina mengapa kilang kilang minyak tidak dibangun apa kendalanya tagih komitmentnya kalau import terus pasti banyak mafia yg diuntungkan</td>\n",
       "    </tr>\n",
       "    <tr>\n",
       "      <th>5</th>\n",
       "      <td>@DS_yantie @desmodromici1 @NasbiHasan harus membangun kilang minyak ! Secepatnya !!</td>\n",
       "      <td>harus membangun kilang minyak secepatnya</td>\n",
       "    </tr>\n",
       "    <tr>\n",
       "      <th>6</th>\n",
       "      <td>@regar_op0sisi Sudah dari zaman orba ga ada kilang. Pada waktu itu Indonesia negara penghasil minyak bumi. Gabung dalam OPEC. Penghasil minyak malah tidak di proses. Jual minyak mentah impor bensin solar dll alasannya adaaa saja....</td>\n",
       "      <td>sudah dari zaman orba ga ada kilang pada waktu itu indonesia negara penghasil minyak bumi gabung dalam opec penghasil minyak malah tidak di proses jual minyak mentah impor bensin solar dll alasannya adaaa saja</td>\n",
       "    </tr>\n",
       "    <tr>\n",
       "      <th>7</th>\n",
       "      <td>@dhaintly Issu ini dr dulu udah jadi bahan debat capres tapi koq gak ada presiden yg berani bikin kilang minyak ya? Siapa sih yg diuntungkan dgn beli mintak dr Singapura?</td>\n",
       "      <td>issu ini dr dulu udah jadi bahan debat capres tapi koq gak ada presiden yg berani bikin kilang minyak ya siapa sih yg diuntungkan dgn beli mintak dr singapura</td>\n",
       "    </tr>\n",
       "    <tr>\n",
       "      <th>8</th>\n",
       "      <td>@CakKhum Da mah yaaaaa harusnya mah ga usah buru2 bangun IKN mending mikirin bangun kilang minyak di Indo.</td>\n",
       "      <td>da mah yaaaaa harusnya mah ga usah buru bangun ikn mending mikirin bangun kilang minyak di indo</td>\n",
       "    </tr>\n",
       "    <tr>\n",
       "      <th>9</th>\n",
       "      <td>Seharusnya dari dulu udah bikin kilang minyak yang banyak.. negara kita sibuk mau korupsi makanya ga mikir Bagun kilang minyak itu</td>\n",
       "      <td>seharusnya dari dulu udah bikin kilang minyak yang banyak negara kita sibuk mau korupsi makanya ga mikir bagun kilang minyak itu</td>\n",
       "    </tr>\n",
       "  </tbody>\n",
       "</table>\n",
       "</div>"
      ],
      "text/plain": [
       "                                                                                                                                                                                                                                                                                                  full_text  \\\n",
       "0  @luckylucky0971 @PaltiHutabarat Indonesia Emas pak Presiden @prabowo Bangun industri otomotif yg kuat bangun industri telekomunikasi bangun industri pesawat tempur bangun industri alat berat bangun kilang kilang minyak yg hebat Tidak usah geleng geleng kepala bingung liat koruptor @BANGSAygSUJUD   \n",
       "1                                                                                                           @MMicen @BosPurwa Dengarkan baik2 kata2 yang dia ucapkan.. Udah jelas fokus dia pertamina yang males2an buat kilang minyak baru.. Cuma fokus 1 kalimat aja tapi konteks yang dibahas kaga tau..   \n",
       "2                                                                                                                                                                                   @dhaintly Kalau bikin kilang otomatis gk ada proyek import minyak buat Elite PERTAMINA dong Boss @prabowo @PurbayaYudhi   \n",
       "3                                                                                                                                                                                                     Impor BBM Bebani APBN Purbaya Sebut Pertamina Malas Bangun Kilang Minyak Baru https://t.co/aDP7NdJrLB   \n",
       "4         @Dennysiregar7 @pertamina @NasbiHasan Jadi kapan Pertamina akan mulai membangun Kilang.? Coba DPR melakukan rapat dg Menteti BUMN Menteri ESDM dan Pertamina mengapa kilang kilang minyak tidak dibangun apa kendalanya tagih komitmentnya. Kalau import terus pasti banyak mafia yg diuntungkan.   \n",
       "5                                                                                                                                                                                                                      @DS_yantie @desmodromici1 @NasbiHasan harus membangun kilang minyak ! Secepatnya !!    \n",
       "6                                                                  @regar_op0sisi Sudah dari zaman orba ga ada kilang. Pada waktu itu Indonesia negara penghasil minyak bumi. Gabung dalam OPEC. Penghasil minyak malah tidak di proses. Jual minyak mentah impor bensin solar dll alasannya adaaa saja....   \n",
       "7                                                                                                                                @dhaintly Issu ini dr dulu udah jadi bahan debat capres tapi koq gak ada presiden yg berani bikin kilang minyak ya? Siapa sih yg diuntungkan dgn beli mintak dr Singapura?   \n",
       "8                                                                                                                                                                                               @CakKhum Da mah yaaaaa harusnya mah ga usah buru2 bangun IKN mending mikirin bangun kilang minyak di Indo.    \n",
       "9                                                                                                                                                                        Seharusnya dari dulu udah bikin kilang minyak yang banyak.. negara kita sibuk mau korupsi makanya ga mikir Bagun kilang minyak itu   \n",
       "\n",
       "                                                                                                                                                                                                                                              cleaned_text  \n",
       "0         indonesia emas pak presiden bangun industri otomotif yg kuat bangun industri telekomunikasi bangun industri pesawat tempur bangun industri alat berat bangun kilang kilang minyak yg hebat tidak usah geleng geleng kepala bingung liat koruptor  \n",
       "1                                                                                       dengarkan baik kata yang dia ucapkan udah jelas fokus dia pertamina yang malesan buat kilang minyak baru cuma fokus kalimat aja tapi konteks yang dibahas kaga tau  \n",
       "2                                                                                                                                                                   kalau bikin kilang otomatis gk ada proyek import minyak buat elite pertamina dong boss  \n",
       "3                                                                                                                                                                            impor bbm bebani apbn purbaya sebut pertamina malas bangun kilang minyak baru  \n",
       "4  jadi kapan pertamina akan mulai membangun kilang coba dpr melakukan rapat dg menteti bumn menteri esdm dan pertamina mengapa kilang kilang minyak tidak dibangun apa kendalanya tagih komitmentnya kalau import terus pasti banyak mafia yg diuntungkan  \n",
       "5                                                                                                                                                                                                                 harus membangun kilang minyak secepatnya  \n",
       "6                                        sudah dari zaman orba ga ada kilang pada waktu itu indonesia negara penghasil minyak bumi gabung dalam opec penghasil minyak malah tidak di proses jual minyak mentah impor bensin solar dll alasannya adaaa saja  \n",
       "7                                                                                           issu ini dr dulu udah jadi bahan debat capres tapi koq gak ada presiden yg berani bikin kilang minyak ya siapa sih yg diuntungkan dgn beli mintak dr singapura  \n",
       "8                                                                                                                                                          da mah yaaaaa harusnya mah ga usah buru bangun ikn mending mikirin bangun kilang minyak di indo  \n",
       "9                                                                                                                         seharusnya dari dulu udah bikin kilang minyak yang banyak negara kita sibuk mau korupsi makanya ga mikir bagun kilang minyak itu  "
      ]
     },
     "execution_count": 46,
     "metadata": {},
     "output_type": "execute_result"
    }
   ],
   "source": [
    "def clean_text(text):\n",
    "    if not isinstance(text, str):\n",
    "        text = str(text)\n",
    "    text = text.lower()                             # ubah ke huruf kecil\n",
    "    text = re.sub(r'http\\S+|www\\.\\S+', '', text)    # hapus URL\n",
    "    text = re.sub(r'@\\w+', '', text)                # hapus mention (@username)  \n",
    "    text = re.sub(r'#\\w+', '', text)                # hapus hashtag (#hashtag)  \n",
    "    text = re.sub(r'[^a-z\\s]', '', text)            # hapus karakter non-huruf\n",
    "    text = re.sub(r'\\s+', ' ', text).strip()        # hapus spasi berlebih\n",
    "    return text\n",
    "\n",
    "df['cleaned_text'] = df['full_text'].apply(clean_text)\n",
    "df[['full_text', 'cleaned_text']].head(10)"
   ]
  },
  {
   "cell_type": "markdown",
   "id": "8560325a",
   "metadata": {},
   "source": [
    "Handling Chatwords"
   ]
  },
  {
   "cell_type": "code",
   "execution_count": null,
   "id": "7b44c934",
   "metadata": {},
   "outputs": [
    {
     "data": {
      "text/html": [
       "<div>\n",
       "<style scoped>\n",
       "    .dataframe tbody tr th:only-of-type {\n",
       "        vertical-align: middle;\n",
       "    }\n",
       "\n",
       "    .dataframe tbody tr th {\n",
       "        vertical-align: top;\n",
       "    }\n",
       "\n",
       "    .dataframe thead th {\n",
       "        text-align: right;\n",
       "    }\n",
       "</style>\n",
       "<table border=\"1\" class=\"dataframe\">\n",
       "  <thead>\n",
       "    <tr style=\"text-align: right;\">\n",
       "      <th></th>\n",
       "      <th>no</th>\n",
       "      <th>transformed</th>\n",
       "      <th>original-for</th>\n",
       "      <th>transformation</th>\n",
       "    </tr>\n",
       "  </thead>\n",
       "  <tbody>\n",
       "    <tr>\n",
       "      <th>0</th>\n",
       "      <td>19</td>\n",
       "      <td>sampe</td>\n",
       "      <td>sampai</td>\n",
       "      <td>sound-alter</td>\n",
       "    </tr>\n",
       "    <tr>\n",
       "      <th>1</th>\n",
       "      <td>29</td>\n",
       "      <td>dgn</td>\n",
       "      <td>dengan</td>\n",
       "      <td>disemvoweling</td>\n",
       "    </tr>\n",
       "    <tr>\n",
       "      <th>2</th>\n",
       "      <td>32</td>\n",
       "      <td>org</td>\n",
       "      <td>orang</td>\n",
       "      <td>disemvoweling</td>\n",
       "    </tr>\n",
       "    <tr>\n",
       "      <th>3</th>\n",
       "      <td>34</td>\n",
       "      <td>karna</td>\n",
       "      <td>karena</td>\n",
       "      <td>disemvoweling</td>\n",
       "    </tr>\n",
       "    <tr>\n",
       "      <th>4</th>\n",
       "      <td>35</td>\n",
       "      <td>tu</td>\n",
       "      <td>itu</td>\n",
       "      <td>disemvoweling</td>\n",
       "    </tr>\n",
       "  </tbody>\n",
       "</table>\n",
       "</div>"
      ],
      "text/plain": [
       "   no transformed original-for transformation\n",
       "0  19       sampe       sampai    sound-alter\n",
       "1  29         dgn       dengan  disemvoweling\n",
       "2  32         org        orang  disemvoweling\n",
       "3  34       karna       karena  disemvoweling\n",
       "4  35          tu          itu  disemvoweling"
      ]
     },
     "execution_count": 56,
     "metadata": {},
     "output_type": "execute_result"
    }
   ],
   "source": [
    "stopword_data = 'dataset/data_text_informal_to_formal.csv'\n",
    "df_stopwords = pd.read_csv(stopword_data, sep=';')\n",
    "df_stopwords.head()"
   ]
  },
  {
   "cell_type": "code",
   "execution_count": null,
   "id": "20667389",
   "metadata": {},
   "outputs": [],
   "source": [
    "def replace_chatwords(text):\n",
    "    words = text.split()\n",
    "    replaced_words = [formal_text.get(word, word) for word in words]\n",
    "    return ' '.join(replaced_words)\n",
    "\n",
    "formal_text = df_stopwords.set_index('transformed')['original-for'].to_dict()\n",
    "df['cleaned_text'] = df['cleaned_text'].apply(replace_chatwords)"
   ]
  },
  {
   "cell_type": "markdown",
   "id": "4e78c16e",
   "metadata": {},
   "source": [
    "Handling Stopword"
   ]
  },
  {
   "cell_type": "code",
   "execution_count": null,
   "id": "bb8c0285",
   "metadata": {},
   "outputs": [],
   "source": [
    "from Sastrawi.StopWordRemover.StopWordRemoverFactory import StopWordRemoverFactory\n",
    "factory = StopWordRemoverFactory()\n",
    "stopword = factory.create_stop_word_remover()\n",
    "df['cleaned_text'] = df['cleaned_text'].apply(stopword.remove)"
   ]
  },
  {
   "cell_type": "markdown",
   "id": "9b42b17a",
   "metadata": {},
   "source": [
    "Tokenizer"
   ]
  },
  {
   "cell_type": "code",
   "execution_count": 45,
   "id": "99986098",
   "metadata": {},
   "outputs": [
    {
     "name": "stderr",
     "output_type": "stream",
     "text": [
      "[nltk_data] Downloading package punkt to\n",
      "[nltk_data]     C:\\Users\\Kinan\\AppData\\Roaming\\nltk_data...\n",
      "[nltk_data]   Package punkt is already up-to-date!\n"
     ]
    },
    {
     "data": {
      "text/html": [
       "<div>\n",
       "<style scoped>\n",
       "    .dataframe tbody tr th:only-of-type {\n",
       "        vertical-align: middle;\n",
       "    }\n",
       "\n",
       "    .dataframe tbody tr th {\n",
       "        vertical-align: top;\n",
       "    }\n",
       "\n",
       "    .dataframe thead th {\n",
       "        text-align: right;\n",
       "    }\n",
       "</style>\n",
       "<table border=\"1\" class=\"dataframe\">\n",
       "  <thead>\n",
       "    <tr style=\"text-align: right;\">\n",
       "      <th></th>\n",
       "      <th>cleaned_text</th>\n",
       "      <th>tokenized_text</th>\n",
       "    </tr>\n",
       "  </thead>\n",
       "  <tbody>\n",
       "    <tr>\n",
       "      <th>0</th>\n",
       "      <td>indonesia emas pak presiden bangun industri otomotif kuat bangun industri telekomunikasi bangun industri pesawat tempur bangun industri alat berat bangun kilang kilang minyak hebat usah geleng geleng kepala bingung liat koruptor</td>\n",
       "      <td>[indonesia, emas, pak, presiden, bangun, industri, otomotif, kuat, bangun, industri, telekomunikasi, bangun, industri, pesawat, tempur, bangun, industri, alat, berat, bangun, kilang, kilang, minyak, hebat, usah, geleng, geleng, kepala, bingung, liat, koruptor]</td>\n",
       "    </tr>\n",
       "    <tr>\n",
       "      <th>1</th>\n",
       "      <td>dengarkan baik kata ucapkan udah jelas fokus pertamina malesan buat kilang minyak baru cuma fokus kalimat konteks dibahas kagak tau</td>\n",
       "      <td>[dengarkan, baik, kata, ucapkan, udah, jelas, fokus, pertamina, malesan, buat, kilang, minyak, baru, cuma, fokus, kalimat, konteks, dibahas, kagak, tau]</td>\n",
       "    </tr>\n",
       "    <tr>\n",
       "      <th>2</th>\n",
       "      <td>kalau bikin kilang otomatis proyek import minyak buat elite pertamina dong boss</td>\n",
       "      <td>[kalau, bikin, kilang, otomatis, proyek, import, minyak, buat, elite, pertamina, dong, boss]</td>\n",
       "    </tr>\n",
       "    <tr>\n",
       "      <th>3</th>\n",
       "      <td>impor bbm bebani apbn purbaya sebut pertamina malas bangun kilang minyak baru</td>\n",
       "      <td>[impor, bbm, bebani, apbn, purbaya, sebut, pertamina, malas, bangun, kilang, minyak, baru]</td>\n",
       "    </tr>\n",
       "    <tr>\n",
       "      <th>4</th>\n",
       "      <td>jadi kapan pertamina mulai membangun kilang coba dpr melakukan rapat menteti bumn menteri esdm pertamina kilang kilang minyak dibangun apa kendalanya tagih komitmentnya kalau import terus banyak mafia diuntungkan</td>\n",
       "      <td>[jadi, kapan, pertamina, mulai, membangun, kilang, coba, dpr, melakukan, rapat, menteti, bumn, menteri, esdm, pertamina, kilang, kilang, minyak, dibangun, apa, kendalanya, tagih, komitmentnya, kalau, import, terus, banyak, mafia, diuntungkan]</td>\n",
       "    </tr>\n",
       "    <tr>\n",
       "      <th>5</th>\n",
       "      <td>membangun kilang minyak secepatnya</td>\n",
       "      <td>[membangun, kilang, minyak, secepatnya]</td>\n",
       "    </tr>\n",
       "    <tr>\n",
       "      <th>6</th>\n",
       "      <td>zaman orba kilang waktu indonesia negara penghasil minyak bumi gabung opec penghasil minyak malah proses jual minyak mentah impor bensin solar alasannya adaaa</td>\n",
       "      <td>[zaman, orba, kilang, waktu, indonesia, negara, penghasil, minyak, bumi, gabung, opec, penghasil, minyak, malah, proses, jual, minyak, mentah, impor, bensin, solar, alasannya, adaaa]</td>\n",
       "    </tr>\n",
       "    <tr>\n",
       "      <th>7</th>\n",
       "      <td>issu dulu udah jadi bahan debat capres koq presiden berani bikin kilang minyak siapa sih diuntungkan beli mintak singapura</td>\n",
       "      <td>[issu, dulu, udah, jadi, bahan, debat, capres, koq, presiden, berani, bikin, kilang, minyak, siapa, sih, diuntungkan, beli, mintak, singapura]</td>\n",
       "    </tr>\n",
       "    <tr>\n",
       "      <th>8</th>\n",
       "      <td>da mah iya harusnya mah usah buru bangun ikn mending memikirkan bangun kilang minyak indonesia</td>\n",
       "      <td>[da, mah, iya, harusnya, mah, usah, buru, bangun, ikn, mending, memikirkan, bangun, kilang, minyak, indonesia]</td>\n",
       "    </tr>\n",
       "    <tr>\n",
       "      <th>9</th>\n",
       "      <td>dulu udah bikin kilang minyak banyak negara sibuk mau korupsi tidak pikir bagun kilang minyak</td>\n",
       "      <td>[dulu, udah, bikin, kilang, minyak, banyak, negara, sibuk, mau, korupsi, tidak, pikir, bagun, kilang, minyak]</td>\n",
       "    </tr>\n",
       "  </tbody>\n",
       "</table>\n",
       "</div>"
      ],
      "text/plain": [
       "                                                                                                                                                                                                                           cleaned_text  \\\n",
       "0  indonesia emas pak presiden bangun industri otomotif kuat bangun industri telekomunikasi bangun industri pesawat tempur bangun industri alat berat bangun kilang kilang minyak hebat usah geleng geleng kepala bingung liat koruptor   \n",
       "1                                                                                                   dengarkan baik kata ucapkan udah jelas fokus pertamina malesan buat kilang minyak baru cuma fokus kalimat konteks dibahas kagak tau   \n",
       "2                                                                                                                                                       kalau bikin kilang otomatis proyek import minyak buat elite pertamina dong boss   \n",
       "3                                                                                                                                                         impor bbm bebani apbn purbaya sebut pertamina malas bangun kilang minyak baru   \n",
       "4                  jadi kapan pertamina mulai membangun kilang coba dpr melakukan rapat menteti bumn menteri esdm pertamina kilang kilang minyak dibangun apa kendalanya tagih komitmentnya kalau import terus banyak mafia diuntungkan   \n",
       "5                                                                                                                                                                                                    membangun kilang minyak secepatnya   \n",
       "6                                                                        zaman orba kilang waktu indonesia negara penghasil minyak bumi gabung opec penghasil minyak malah proses jual minyak mentah impor bensin solar alasannya adaaa   \n",
       "7                                                                                                            issu dulu udah jadi bahan debat capres koq presiden berani bikin kilang minyak siapa sih diuntungkan beli mintak singapura   \n",
       "8                                                                                                                                        da mah iya harusnya mah usah buru bangun ikn mending memikirkan bangun kilang minyak indonesia   \n",
       "9                                                                                                                                         dulu udah bikin kilang minyak banyak negara sibuk mau korupsi tidak pikir bagun kilang minyak   \n",
       "\n",
       "                                                                                                                                                                                                                                                         tokenized_text  \n",
       "0  [indonesia, emas, pak, presiden, bangun, industri, otomotif, kuat, bangun, industri, telekomunikasi, bangun, industri, pesawat, tempur, bangun, industri, alat, berat, bangun, kilang, kilang, minyak, hebat, usah, geleng, geleng, kepala, bingung, liat, koruptor]  \n",
       "1                                                                                                              [dengarkan, baik, kata, ucapkan, udah, jelas, fokus, pertamina, malesan, buat, kilang, minyak, baru, cuma, fokus, kalimat, konteks, dibahas, kagak, tau]  \n",
       "2                                                                                                                                                                          [kalau, bikin, kilang, otomatis, proyek, import, minyak, buat, elite, pertamina, dong, boss]  \n",
       "3                                                                                                                                                                            [impor, bbm, bebani, apbn, purbaya, sebut, pertamina, malas, bangun, kilang, minyak, baru]  \n",
       "4                    [jadi, kapan, pertamina, mulai, membangun, kilang, coba, dpr, melakukan, rapat, menteti, bumn, menteri, esdm, pertamina, kilang, kilang, minyak, dibangun, apa, kendalanya, tagih, komitmentnya, kalau, import, terus, banyak, mafia, diuntungkan]  \n",
       "5                                                                                                                                                                                                                               [membangun, kilang, minyak, secepatnya]  \n",
       "6                                                                                [zaman, orba, kilang, waktu, indonesia, negara, penghasil, minyak, bumi, gabung, opec, penghasil, minyak, malah, proses, jual, minyak, mentah, impor, bensin, solar, alasannya, adaaa]  \n",
       "7                                                                                                                        [issu, dulu, udah, jadi, bahan, debat, capres, koq, presiden, berani, bikin, kilang, minyak, siapa, sih, diuntungkan, beli, mintak, singapura]  \n",
       "8                                                                                                                                                        [da, mah, iya, harusnya, mah, usah, buru, bangun, ikn, mending, memikirkan, bangun, kilang, minyak, indonesia]  \n",
       "9                                                                                                                                                         [dulu, udah, bikin, kilang, minyak, banyak, negara, sibuk, mau, korupsi, tidak, pikir, bagun, kilang, minyak]  "
      ]
     },
     "execution_count": 45,
     "metadata": {},
     "output_type": "execute_result"
    }
   ],
   "source": [
    "import nltk\n",
    "from nltk.tokenize import word_tokenize\n",
    "nltk.download('punkt')\n",
    "\n",
    "df['tokenized_text'] = df['cleaned_text'].apply(word_tokenize)\n",
    "df[['cleaned_text', 'tokenized_text']].head(10)"
   ]
  },
  {
   "cell_type": "markdown",
   "id": "8c92c7ba",
   "metadata": {},
   "source": [
    "Stemming"
   ]
  },
  {
   "cell_type": "code",
   "execution_count": 47,
   "id": "22546b64",
   "metadata": {},
   "outputs": [
    {
     "data": {
      "text/html": [
       "<div>\n",
       "<style scoped>\n",
       "    .dataframe tbody tr th:only-of-type {\n",
       "        vertical-align: middle;\n",
       "    }\n",
       "\n",
       "    .dataframe tbody tr th {\n",
       "        vertical-align: top;\n",
       "    }\n",
       "\n",
       "    .dataframe thead th {\n",
       "        text-align: right;\n",
       "    }\n",
       "</style>\n",
       "<table border=\"1\" class=\"dataframe\">\n",
       "  <thead>\n",
       "    <tr style=\"text-align: right;\">\n",
       "      <th></th>\n",
       "      <th>tokenized_text</th>\n",
       "      <th>stemmed_text</th>\n",
       "    </tr>\n",
       "  </thead>\n",
       "  <tbody>\n",
       "    <tr>\n",
       "      <th>0</th>\n",
       "      <td>[indonesia, emas, pak, presiden, bangun, industri, otomotif, kuat, bangun, industri, telekomunikasi, bangun, industri, pesawat, tempur, bangun, industri, alat, berat, bangun, kilang, kilang, minyak, hebat, usah, geleng, geleng, kepala, bingung, liat, koruptor]</td>\n",
       "      <td>[indonesia, emas, pak, presiden, bangun, industri, otomotif, kuat, bangun, industri, telekomunikasi, bangun, industri, pesawat, tempur, bangun, industri, alat, berat, bangun, kilang, kilang, minyak, hebat, usah, geleng, geleng, kepala, bingung, liat, koruptor]</td>\n",
       "    </tr>\n",
       "    <tr>\n",
       "      <th>1</th>\n",
       "      <td>[dengarkan, baik, kata, ucapkan, udah, jelas, fokus, pertamina, malesan, buat, kilang, minyak, baru, cuma, fokus, kalimat, konteks, dibahas, kagak, tau]</td>\n",
       "      <td>[dengar, baik, kata, ucap, udah, jelas, fokus, pertamina, malesan, buat, kilang, minyak, baru, cuma, fokus, kalimat, konteks, bahas, kagak, tau]</td>\n",
       "    </tr>\n",
       "    <tr>\n",
       "      <th>2</th>\n",
       "      <td>[kalau, bikin, kilang, otomatis, proyek, import, minyak, buat, elite, pertamina, dong, boss]</td>\n",
       "      <td>[kalau, bikin, kilang, otomatis, proyek, import, minyak, buat, elite, pertamina, dong, boss]</td>\n",
       "    </tr>\n",
       "    <tr>\n",
       "      <th>3</th>\n",
       "      <td>[impor, bbm, bebani, apbn, purbaya, sebut, pertamina, malas, bangun, kilang, minyak, baru]</td>\n",
       "      <td>[impor, bbm, beban, apbn, purbaya, sebut, pertamina, malas, bangun, kilang, minyak, baru]</td>\n",
       "    </tr>\n",
       "    <tr>\n",
       "      <th>4</th>\n",
       "      <td>[jadi, kapan, pertamina, mulai, membangun, kilang, coba, dpr, melakukan, rapat, menteti, bumn, menteri, esdm, pertamina, kilang, kilang, minyak, dibangun, apa, kendalanya, tagih, komitmentnya, kalau, import, terus, banyak, mafia, diuntungkan]</td>\n",
       "      <td>[jadi, kapan, pertamina, mulai, bangun, kilang, coba, dpr, laku, rapat, menteti, bumn, menteri, esdm, pertamina, kilang, kilang, minyak, bangun, apa, kendala, tagih, komitmentnya, kalau, import, terus, banyak, mafia, untung]</td>\n",
       "    </tr>\n",
       "    <tr>\n",
       "      <th>5</th>\n",
       "      <td>[membangun, kilang, minyak, secepatnya]</td>\n",
       "      <td>[bangun, kilang, minyak, cepat]</td>\n",
       "    </tr>\n",
       "    <tr>\n",
       "      <th>6</th>\n",
       "      <td>[zaman, orba, kilang, waktu, indonesia, negara, penghasil, minyak, bumi, gabung, opec, penghasil, minyak, malah, proses, jual, minyak, mentah, impor, bensin, solar, alasannya, adaaa]</td>\n",
       "      <td>[zaman, orba, kilang, waktu, indonesia, negara, hasil, minyak, bumi, gabung, opec, hasil, minyak, malah, proses, jual, minyak, mentah, impor, bensin, solar, alas, adaaa]</td>\n",
       "    </tr>\n",
       "    <tr>\n",
       "      <th>7</th>\n",
       "      <td>[issu, dulu, udah, jadi, bahan, debat, capres, koq, presiden, berani, bikin, kilang, minyak, siapa, sih, diuntungkan, beli, mintak, singapura]</td>\n",
       "      <td>[issu, dulu, udah, jadi, bahan, debat, capres, koq, presiden, berani, bikin, kilang, minyak, siapa, sih, untung, beli, mintak, singapura]</td>\n",
       "    </tr>\n",
       "    <tr>\n",
       "      <th>8</th>\n",
       "      <td>[da, mah, iya, harusnya, mah, usah, buru, bangun, ikn, mending, memikirkan, bangun, kilang, minyak, indonesia]</td>\n",
       "      <td>[da, mah, iya, harus, mah, usah, buru, bangun, ikn, mending, pikir, bangun, kilang, minyak, indonesia]</td>\n",
       "    </tr>\n",
       "    <tr>\n",
       "      <th>9</th>\n",
       "      <td>[dulu, udah, bikin, kilang, minyak, banyak, negara, sibuk, mau, korupsi, tidak, pikir, bagun, kilang, minyak]</td>\n",
       "      <td>[dulu, udah, bikin, kilang, minyak, banyak, negara, sibuk, mau, korupsi, tidak, pikir, bagun, kilang, minyak]</td>\n",
       "    </tr>\n",
       "  </tbody>\n",
       "</table>\n",
       "</div>"
      ],
      "text/plain": [
       "                                                                                                                                                                                                                                                         tokenized_text  \\\n",
       "0  [indonesia, emas, pak, presiden, bangun, industri, otomotif, kuat, bangun, industri, telekomunikasi, bangun, industri, pesawat, tempur, bangun, industri, alat, berat, bangun, kilang, kilang, minyak, hebat, usah, geleng, geleng, kepala, bingung, liat, koruptor]   \n",
       "1                                                                                                              [dengarkan, baik, kata, ucapkan, udah, jelas, fokus, pertamina, malesan, buat, kilang, minyak, baru, cuma, fokus, kalimat, konteks, dibahas, kagak, tau]   \n",
       "2                                                                                                                                                                          [kalau, bikin, kilang, otomatis, proyek, import, minyak, buat, elite, pertamina, dong, boss]   \n",
       "3                                                                                                                                                                            [impor, bbm, bebani, apbn, purbaya, sebut, pertamina, malas, bangun, kilang, minyak, baru]   \n",
       "4                    [jadi, kapan, pertamina, mulai, membangun, kilang, coba, dpr, melakukan, rapat, menteti, bumn, menteri, esdm, pertamina, kilang, kilang, minyak, dibangun, apa, kendalanya, tagih, komitmentnya, kalau, import, terus, banyak, mafia, diuntungkan]   \n",
       "5                                                                                                                                                                                                                               [membangun, kilang, minyak, secepatnya]   \n",
       "6                                                                                [zaman, orba, kilang, waktu, indonesia, negara, penghasil, minyak, bumi, gabung, opec, penghasil, minyak, malah, proses, jual, minyak, mentah, impor, bensin, solar, alasannya, adaaa]   \n",
       "7                                                                                                                        [issu, dulu, udah, jadi, bahan, debat, capres, koq, presiden, berani, bikin, kilang, minyak, siapa, sih, diuntungkan, beli, mintak, singapura]   \n",
       "8                                                                                                                                                        [da, mah, iya, harusnya, mah, usah, buru, bangun, ikn, mending, memikirkan, bangun, kilang, minyak, indonesia]   \n",
       "9                                                                                                                                                         [dulu, udah, bikin, kilang, minyak, banyak, negara, sibuk, mau, korupsi, tidak, pikir, bagun, kilang, minyak]   \n",
       "\n",
       "                                                                                                                                                                                                                                                           stemmed_text  \n",
       "0  [indonesia, emas, pak, presiden, bangun, industri, otomotif, kuat, bangun, industri, telekomunikasi, bangun, industri, pesawat, tempur, bangun, industri, alat, berat, bangun, kilang, kilang, minyak, hebat, usah, geleng, geleng, kepala, bingung, liat, koruptor]  \n",
       "1                                                                                                                      [dengar, baik, kata, ucap, udah, jelas, fokus, pertamina, malesan, buat, kilang, minyak, baru, cuma, fokus, kalimat, konteks, bahas, kagak, tau]  \n",
       "2                                                                                                                                                                          [kalau, bikin, kilang, otomatis, proyek, import, minyak, buat, elite, pertamina, dong, boss]  \n",
       "3                                                                                                                                                                             [impor, bbm, beban, apbn, purbaya, sebut, pertamina, malas, bangun, kilang, minyak, baru]  \n",
       "4                                      [jadi, kapan, pertamina, mulai, bangun, kilang, coba, dpr, laku, rapat, menteti, bumn, menteri, esdm, pertamina, kilang, kilang, minyak, bangun, apa, kendala, tagih, komitmentnya, kalau, import, terus, banyak, mafia, untung]  \n",
       "5                                                                                                                                                                                                                                       [bangun, kilang, minyak, cepat]  \n",
       "6                                                                                             [zaman, orba, kilang, waktu, indonesia, negara, hasil, minyak, bumi, gabung, opec, hasil, minyak, malah, proses, jual, minyak, mentah, impor, bensin, solar, alas, adaaa]  \n",
       "7                                                                                                                             [issu, dulu, udah, jadi, bahan, debat, capres, koq, presiden, berani, bikin, kilang, minyak, siapa, sih, untung, beli, mintak, singapura]  \n",
       "8                                                                                                                                                                [da, mah, iya, harus, mah, usah, buru, bangun, ikn, mending, pikir, bangun, kilang, minyak, indonesia]  \n",
       "9                                                                                                                                                         [dulu, udah, bikin, kilang, minyak, banyak, negara, sibuk, mau, korupsi, tidak, pikir, bagun, kilang, minyak]  "
      ]
     },
     "execution_count": 47,
     "metadata": {},
     "output_type": "execute_result"
    }
   ],
   "source": [
    "from Sastrawi.Stemmer.StemmerFactory import StemmerFactory\n",
    "import ast\n",
    "\n",
    "stem_factory = StemmerFactory()\n",
    "stemmer = stem_factory.create_stemmer()\n",
    "\n",
    "def stem_text(word_list):\n",
    "    # Kalau input berupa string, ubah jadi list dulu\n",
    "    if isinstance(word_list, str):\n",
    "        try:\n",
    "            word_list = ast.literal_eval(word_list)  # coba parse string list\n",
    "        except:\n",
    "            word_list = word_list.split()  # fallback split biasa\n",
    "    # Kalau bukan list, hentikan (jaga-jaga)\n",
    "    if not isinstance(word_list, list):\n",
    "        return []\n",
    "    # Stemming tiap kata dalam list\n",
    "    return [stemmer.stem(word) for word in word_list]\n",
    "\n",
    "df['stemmed_text'] = df['tokenized_text'].apply(stem_text)\n",
    "df[['tokenized_text', 'stemmed_text']].head(10)\n"
   ]
  },
  {
   "cell_type": "code",
   "execution_count": 72,
   "id": "bfdfe3c9",
   "metadata": {},
   "outputs": [
    {
     "name": "stdout",
     "output_type": "stream",
     "text": [
      "sentiment\n",
      "negative    1275\n",
      "positive    1103\n",
      "neutral      136\n",
      "Name: count, dtype: int64\n"
     ]
    }
   ],
   "source": [
    "import pandas as pd\n",
    "\n",
    "# Baca TSV langsung\n",
    "positive = pd.read_csv(\"dataset/positive.tsv\", sep=\"\\t\", header=None, encoding=\"utf-8\", skiprows=1)\n",
    "negative = pd.read_csv(\"dataset/negative.tsv\", sep=\"\\t\", header=None, encoding=\"utf-8\", skiprows=1)\n",
    "\n",
    "\n",
    "# Buat dictionary\n",
    "# Buat dictionary dengan value sebagai float\n",
    "pos_dict = {k: float(v) for k, v in zip(positive[0], positive[1])}\n",
    "neg_dict = {k: float(v) for k, v in zip(negative[0], negative[1])}\n",
    "\n",
    "\n",
    "# Fungsi labeling sama persis seperti contoh JSON\n",
    "def label_with_inset(text):\n",
    "    score = 0.0\n",
    "    for w in text.split():\n",
    "        if w in pos_dict:\n",
    "            score += pos_dict[w]\n",
    "        elif w in neg_dict:\n",
    "            score += neg_dict[w]\n",
    "    if score > 0:\n",
    "        return \"positive\"\n",
    "    elif score < 0:\n",
    "        return \"negative\"\n",
    "    else:\n",
    "        return \"neutral\"\n",
    "\n",
    "df['stemmed_text_str'] = df['stemmed_text'].apply(lambda x: ' '.join(x))\n",
    "df[\"sentiment\"] = df[\"stemmed_text_str\"].apply(label_with_inset)\n",
    "print(df[\"sentiment\"].value_counts())\n",
    "\n",
    "\n"
   ]
  },
  {
   "cell_type": "code",
   "execution_count": 86,
   "id": "42707915",
   "metadata": {},
   "outputs": [
    {
     "data": {
      "image/png": "[encoded data removed]",
      "text/plain": [
       "<Figure size 600x400 with 1 Axes>"
      ]
     },
     "metadata": {},
     "output_type": "display_data"
    }
   ],
   "source": [
    "import matplotlib.pyplot as plt\n",
    "import seaborn as sns\n",
    "\n",
    "# Hitung jumlah tiap label\n",
    "sentiment_counts = df['sentiment'].value_counts()\n",
    "\n",
    "# Warna manual sesuai urutan\n",
    "colors = ['red' if x=='negative' else 'green' if x=='positive' else 'gray' for x in sentiment_counts.index]\n",
    "\n",
    "plt.figure(figsize=(6,4))\n",
    "sns.barplot(x=sentiment_counts.index, y=sentiment_counts.values, color='blue')  # warna default\n",
    "\n",
    "# Ganti warna bar manual\n",
    "for i, bar in enumerate(plt.gca().patches):\n",
    "    bar.set_facecolor(colors[i])\n",
    "    plt.text(i, bar.get_height() + 5, str(int(bar.get_height())), ha='center', fontweight='bold')\n",
    "\n",
    "plt.title('Distribusi Sentimen')\n",
    "plt.xlabel('Sentimen')\n",
    "plt.ylabel('Jumlah Dokumen')\n",
    "plt.show()\n"
   ]
  },
  {
   "cell_type": "markdown",
   "id": "444bad01",
   "metadata": {},
   "source": [
    "Labeling data positif dan negativ by https://github.com/fajri91/InSet"
   ]
  },
  {
   "cell_type": "code",
   "execution_count": 89,
   "id": "5656283f",
   "metadata": {},
   "outputs": [
    {
     "name": "stdout",
     "output_type": "stream",
     "text": [
      "Data saved to 'tweets-data/kilang_minyak_data_processed.csv'\n"
     ]
    }
   ],
   "source": [
    "selected_column = ['created_at', 'full_text', 'cleaned_text', 'tokenized_text', 'stemmed_text', 'sentiment']\n",
    "df[selected_column].to_csv('tweets-data/kilang_minyak_data_processed.csv', index=False)\n",
    "print(\"Data saved to 'tweets-data/kilang_minyak_data_processed.csv'\")"
   ]
  }
 ],
 "metadata": {
  "kernelspec": {
   "display_name": "mlenv (3.11.9)",
   "language": "python",
   "name": "python3"
  },
  "language_info": {
   "codemirror_mode": {
    "name": "ipython",
    "version": 3
   },
   "file_extension": ".py",
   "mimetype": "text/x-python",
   "name": "python",
   "nbconvert_exporter": "python",
   "pygments_lexer": "ipython3",
   "version": "3.11.9"
  }
 },
 "nbformat": 4,
 "nbformat_minor": 5
}
